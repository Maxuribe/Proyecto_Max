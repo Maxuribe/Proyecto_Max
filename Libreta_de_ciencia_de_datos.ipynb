{
  "nbformat": 4,
  "nbformat_minor": 0,
  "metadata": {
    "colab": {
      "provenance": [],
      "authorship_tag": "ABX9TyMSXBiUHnzdhjMjVhC0YrXN",
      "include_colab_link": true
    },
    "kernelspec": {
      "name": "python3",
      "display_name": "Python 3"
    },
    "language_info": {
      "name": "python"
    }
  },
  "cells": [
    {
      "cell_type": "markdown",
      "metadata": {
        "id": "view-in-github",
        "colab_type": "text"
      },
      "source": [
        "<a href=\"https://colab.research.google.com/github/Maxuribe/Proyecto_Max/blob/main/Libreta_de_ciencia_de_datos.ipynb\" target=\"_parent\"><img src=\"https://colab.research.google.com/assets/colab-badge.svg\" alt=\"Open In Colab\"/></a>"
      ]
    },
    {
      "cell_type": "markdown",
      "source": [
        "Calculadora de IMC"
      ],
      "metadata": {
        "id": "Bmt0d486YplH"
      }
    },
    {
      "cell_type": "code",
      "source": [
        "datos_persona = [\"Max\",\"Uribe\",21,1.78,72]"
      ],
      "metadata": {
        "id": "zjWvXiDsYv3T"
      },
      "execution_count": null,
      "outputs": []
    },
    {
      "cell_type": "code",
      "source": [
        "nombre, apellido, edad, estatura, peso = datos_persona"
      ],
      "metadata": {
        "id": "HxLTkD10Y3wA"
      },
      "execution_count": null,
      "outputs": []
    },
    {
      "cell_type": "code",
      "source": [
        "imc = peso / estatura ** 2 "
      ],
      "metadata": {
        "id": "aKarPg4JY6yE"
      },
      "execution_count": null,
      "outputs": []
    },
    {
      "cell_type": "code",
      "source": [
        "print(\"Calculadora de IMC\")\n",
        "\n",
        "print(\"¡Hola,\",nombre,apellido,\"!\")\n",
        "\n",
        "print(\"Tu peso registrado es de:\",peso,\"kgs\")\n",
        "\n",
        "print(\"Tu estatura registrada es de:\",estatura,\"mts\")\n",
        "\n",
        "print(\"De acuerdo con estos datos tú IMC es\",imc,\"lo que indica:\")"
      ],
      "metadata": {
        "colab": {
          "base_uri": "https://localhost:8080/"
        },
        "id": "Ep86HGtPY_qe",
        "outputId": "2b4f652b-80f5-478c-8746-84c3480d4116"
      },
      "execution_count": null,
      "outputs": [
        {
          "output_type": "stream",
          "name": "stdout",
          "text": [
            "Calculadora de IMC\n",
            "¡Hola, Max Uribe !\n",
            "Tu peso registrado es de: 72 kgs\n",
            "Tu estatura registrada es de: 1.78 mts\n",
            "De acuerdo con estos datos tú IMC es 22.724403484408533 lo que indica:\n"
          ]
        }
      ]
    },
    {
      "cell_type": "code",
      "source": [
        "if imc <= 18.4: # si el IMC es menor a 18.4\n",
        "\n",
        "   print(\"Peso bajo\")\n",
        "\n",
        "elif imc >= 18.5 and imc <= 24.9: # sino, si el IMC es mayor a 18.5 y menor 24.9 \n",
        "\n",
        "   print(\"Peso normal\")\n",
        "\n",
        "elif imc >= 25 and imc <= 29.9: # sino, si el IMC es mayor a 25 y menor a 29.9\n",
        "\n",
        "   print(\"Sobre peso\")\n",
        "\n",
        "else: # sino cae en ninguno de los rangos anteriores entonces es mayor\n",
        "\n",
        "   print(\"Obesidad\")"
      ],
      "metadata": {
        "colab": {
          "base_uri": "https://localhost:8080/"
        },
        "id": "59L69OxpZFE0",
        "outputId": "e8a4ac22-53cf-40b9-e305-abd8af978879"
      },
      "execution_count": null,
      "outputs": [
        {
          "output_type": "stream",
          "name": "stdout",
          "text": [
            "Peso normal\n"
          ]
        }
      ]
    },
    {
      "cell_type": "code",
      "source": [
        "\n",
        "guia = \"\"\"\n",
        "\n",
        "Cómo leer resultados\n",
        "\n",
        "Nivéles de Peso de acuerdo al IMC:\n",
        "\n",
        "IMC por debajo de 18.5: Peso bajo\n",
        "\n",
        "IMC entre 18.5 – 24.9: Peso normal\n",
        "\n",
        "IMC entre 25.0 – 29.9: Sobrepeso\n",
        "\n",
        "IMC de más de 30.0: Obesidad\"\"\"\n",
        "\n",
        "print(guia)"
      ],
      "metadata": {
        "colab": {
          "base_uri": "https://localhost:8080/"
        },
        "id": "VKrucTNuZQEz",
        "outputId": "37e3d320-479f-4742-fe3e-5b87b26e600c"
      },
      "execution_count": null,
      "outputs": [
        {
          "output_type": "stream",
          "name": "stdout",
          "text": [
            "\n",
            "\n",
            "Cómo leer resultados\n",
            "\n",
            "Nivéles de Peso de acuerdo al IMC:\n",
            "\n",
            "IMC por debajo de 18.5: Peso bajo\n",
            "\n",
            "IMC entre 18.5 – 24.9: Peso normal\n",
            "\n",
            "IMC entre 25.0 – 29.9: Sobrepeso\n",
            "\n",
            "IMC de más de 30.0: Obesidad\n"
          ]
        }
      ]
    },
    {
      "cell_type": "code",
      "source": [
        "\n",
        "from datetime import datetime # importamos la librería de fechas y horas\n",
        "\n",
        "from pytz import timezone # importamos la librería de zonas horarias \n",
        "\n",
        "zona_horaria = timezone('America/Monterrey') # definimos el uso horario de Monterrey\n",
        "\n",
        "fecha_hora = datetime.now(zona_horaria) # definimos la variable fecha_hora usando la función now() para saber fecha y hora actual, y le indicamos la zona horaria\n",
        "\n",
        "fecha_hora_formato = fecha_hora.strftime(\"%B %d, %Y %H:%M:%S\") # le damos formato a la fecha y hora\n",
        "\n",
        "print(\"Created on\", fecha_hora_formato) # imprimimos la fecha y hora\n",
        "\n",
        "autor = \"Germán Domínguez\" # definimos la variable autor con nuestro nombre\n",
        "\n",
        "print(\"Author:\",autor) # imprimimos nombre del autor"
      ],
      "metadata": {
        "colab": {
          "base_uri": "https://localhost:8080/"
        },
        "id": "bNx-kXbYZWgP",
        "outputId": "dc4b4df3-887a-492b-e51e-01df70b50075"
      },
      "execution_count": null,
      "outputs": [
        {
          "output_type": "stream",
          "name": "stdout",
          "text": [
            "Created on July 17, 2022 22:51:12\n",
            "Author: Germán Domínguez\n"
          ]
        }
      ]
    }
  ]
}